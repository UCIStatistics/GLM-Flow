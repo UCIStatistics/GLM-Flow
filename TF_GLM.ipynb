{
 "cells": [
  {
   "cell_type": "code",
   "execution_count": 1,
   "metadata": {
    "collapsed": false
   },
   "outputs": [],
   "source": [
    "import tensorflow as tf\n",
    "import numpy as np"
   ]
  },
  {
   "cell_type": "code",
   "execution_count": 2,
   "metadata": {
    "collapsed": false
   },
   "outputs": [],
   "source": [
    "def tf_dot(u, v):\n",
    "    return tf.matmul(tf.transpose(v), u)\n",
    "\n",
    "def tf_logistic(x):\n",
    "    ex = tf.exp(x)\n",
    "    return tf.div(ex, tf.add(1.0, ex))"
   ]
  },
  {
   "cell_type": "code",
   "execution_count": 3,
   "metadata": {
    "collapsed": false
   },
   "outputs": [],
   "source": [
    "N = 150 # number of observations\n",
    "M = 4 # number of parameters\n",
    "X = tf.placeholder(\"float\", [None, M]) # create symbolic variables\n",
    "Y = tf.placeholder(\"float\", [None, 1.0])\n",
    "\n",
    "betas = tf.Variable(tf.random_normal([M, 1], stddev=1.0))\n",
    "eta = tf.matmul(X, betas)\n",
    "p = tf_logistic(eta)"
   ]
  },
  {
   "cell_type": "code",
   "execution_count": 4,
   "metadata": {
    "collapsed": false
   },
   "outputs": [],
   "source": [
    "negative_log_likelihood = tf.neg(\n",
    "    tf.add(\n",
    "        tf_dot( tf.log(p), Y),\n",
    "        tf_dot( tf.sub(1.0, Y), tf.log(tf.sub(1.0, p)))\n",
    "))\n",
    "fit_operation = tf.train.GradientDescentOptimizer(0.05).minimize(negative_log_likelihood, var_list=[betas]) \n",
    "#fit_operation = tf.train.AdadeltaOptimizer(epsilon=1e-20).minimize(negative_log_likelihood, var_list=[betas]) "
   ]
  },
  {
   "cell_type": "code",
   "execution_count": 5,
   "metadata": {
    "collapsed": false
   },
   "outputs": [],
   "source": [
    "iris = np.genfromtxt(\"iris.csv\", delimiter=\",\", dtype=\"float\", skip_header=1)\n",
    "xs = iris[:, 0:4]\n",
    "ys = iris[:, 4]\n",
    "ys.shape = (ys.shape[0], 1)"
   ]
  },
  {
   "cell_type": "markdown",
   "metadata": {},
   "source": [
    "According to R, the coefficients should be:\n",
    "\n",
    "    Sepal.Length  Sepal.Width Petal.Length  Petal.Width \n",
    "        0.749045    -1.894611     1.057191    -2.907072"
   ]
  },
  {
   "cell_type": "code",
   "execution_count": 6,
   "metadata": {
    "collapsed": false
   },
   "outputs": [
    {
     "name": "stdout",
     "output_type": "stream",
     "text": [
      "[[ 0.49083239]\n",
      " [-1.48677492]\n",
      " [ 0.65768701]\n",
      " [-2.19421148]]\n"
     ]
    }
   ],
   "source": [
    "## this is the only one which sort of works\n",
    "## both in the sense that it is somewhat consistent, and very roughly agrees with R1\n",
    "with tf.Session() as sess:\n",
    "    tf.initialize_all_variables().run()\n",
    "  #  something like sgd\n",
    "    for i in np.random.randint(0, N, 1000):\n",
    "        sess.run(fit_operation, feed_dict={\n",
    "                X: xs[i,].reshape([1, M]),\n",
    "                Y: ys[i,].reshape([1, 1])\n",
    "            })\n",
    "    print sess.run(betas)"
   ]
  },
  {
   "cell_type": "code",
   "execution_count": 7,
   "metadata": {
    "collapsed": false
   },
   "outputs": [
    {
     "name": "stdout",
     "output_type": "stream",
     "text": [
      "[[-28.02988434]\n",
      " [-15.63471699]\n",
      " [-16.0518589 ]\n",
      " [ -6.04919624]]\n"
     ]
    }
   ],
   "source": [
    "with tf.Session() as sess:\n",
    "    tf.initialize_all_variables().run()\n",
    "  # all at once\n",
    "    sess.run(fit_operation, feed_dict={\n",
    "                X: xs,\n",
    "                Y: ys})\n",
    "    print sess.run(betas)"
   ]
  },
  {
   "cell_type": "code",
   "execution_count": 8,
   "metadata": {
    "collapsed": false
   },
   "outputs": [
    {
     "name": "stdout",
     "output_type": "stream",
     "text": [
      "[[ nan]\n",
      " [ nan]\n",
      " [ nan]\n",
      " [ nan]]\n"
     ]
    }
   ],
   "source": [
    "batch_size = 20\n",
    "with tf.Session() as sess:\n",
    "    tf.initialize_all_variables().run()\n",
    "  #  SGD but in batches\n",
    "    for i in np.random.randint(0, N-batch_size, 1000):\n",
    "        j = i + batch_size\n",
    "        sess.run(fit_operation, feed_dict={\n",
    "                X: xs[i:j,].reshape([batch_size, M]),\n",
    "                Y: ys[i:j,].reshape([batch_size, 1])\n",
    "            })\n",
    "    print sess.run(betas)"
   ]
  },
  {
   "cell_type": "code",
   "execution_count": 9,
   "metadata": {
    "collapsed": false
   },
   "outputs": [
    {
     "name": "stdout",
     "output_type": "stream",
     "text": [
      "[[ 0.15666875]\n",
      " [ 1.3942256 ]\n",
      " [-1.74518979]\n",
      " [-0.53887975]]\n"
     ]
    }
   ],
   "source": [
    "with tf.Session() as sess:\n",
    "    tf.initialize_all_variables().run()\n",
    "  # looping through each row individually\n",
    "    for i in range(N):\n",
    "        sess.run(fit_operation, feed_dict={\n",
    "                X: xs[i,].reshape([1, M]),\n",
    "                Y: ys[i,].reshape([1, 1])\n",
    "            })\n",
    "    print sess.run(betas)"
   ]
  },
  {
   "cell_type": "code",
   "execution_count": 10,
   "metadata": {
    "collapsed": false
   },
   "outputs": [
    {
     "name": "stdout",
     "output_type": "stream",
     "text": [
      "[[-1.1413008 ]\n",
      " [ 0.27244043]\n",
      " [ 0.92517197]\n",
      " [-0.80603081]]\n"
     ]
    }
   ],
   "source": [
    "## try the exponential decayed learning rate\n",
    "global_step = tf.Variable(0, trainable=False)\n",
    "starter_learning_rate = 0.1\n",
    "learning_rate = tf.train.exponential_decay(starter_learning_rate, global_step,\n",
    "                                           100000, 0.96, staircase=True)\n",
    "\n",
    "fit_operation_decay = tf.train.GradientDescentOptimizer(learning_rate).minimize(negative_log_likelihood, \n",
    "                                                                                var_list=[betas],\n",
    "                                                                                global_step=global_step) \n",
    "\n",
    "# doesn't seem to work well\n",
    "\n",
    "with tf.Session() as sess:\n",
    "    tf.initialize_all_variables().run()\n",
    "  #  something like sgd\n",
    "    for i in np.random.randint(0, N, 200):\n",
    "        sess.run(fit_operation, feed_dict={\n",
    "                X: xs[i,].reshape([1, M]),\n",
    "                Y: ys[i,].reshape([1, 1])\n",
    "            })\n",
    "    print sess.run(betas)"
   ]
  },
  {
   "cell_type": "code",
   "execution_count": null,
   "metadata": {
    "collapsed": true
   },
   "outputs": [],
   "source": []
  }
 ],
 "metadata": {
  "kernelspec": {
   "display_name": "Python 2",
   "language": "python",
   "name": "python2"
  },
  "language_info": {
   "codemirror_mode": {
    "name": "ipython",
    "version": 2
   },
   "file_extension": ".py",
   "mimetype": "text/x-python",
   "name": "python",
   "nbconvert_exporter": "python",
   "pygments_lexer": "ipython2",
   "version": "2.7.10"
  }
 },
 "nbformat": 4,
 "nbformat_minor": 0
}
